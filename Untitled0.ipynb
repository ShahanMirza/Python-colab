{
  "cells": [
    {
      "cell_type": "markdown",
      "metadata": {
        "id": "view-in-github",
        "colab_type": "text"
      },
      "source": [
        "<a href=\"https://colab.research.google.com/github/ShahanMirza/Python-colab/blob/main/Untitled0.ipynb\" target=\"_parent\"><img src=\"https://colab.research.google.com/assets/colab-badge.svg\" alt=\"Open In Colab\"/></a>"
      ]
    },
    {
      "cell_type": "code",
      "execution_count": null,
      "metadata": {
        "colab": {
          "base_uri": "https://localhost:8080/"
        },
        "id": "Ey9TWFdOuXyQ",
        "outputId": "95ac3120-1716-4457-8f30-bb6c297c2c97"
      },
      "outputs": [
        {
          "name": "stdout",
          "output_type": "stream",
          "text": [
            " Hello ATP\n"
          ]
        }
      ],
      "source": [
        "print(\" Hello ATP\")"
      ]
    },
    {
      "cell_type": "code",
      "execution_count": null,
      "metadata": {
        "colab": {
          "base_uri": "https://localhost:8080/"
        },
        "id": "CR-uBA-Q3Y99",
        "outputId": "25f04cd1-4cf9-4ef9-cb93-f9b0ca091789"
      },
      "outputs": [
        {
          "name": "stdout",
          "output_type": "stream",
          "text": [
            "2002,2009,2016,2023,2037,2044,2051,2058,2072,2079,2086,2093,2107,2114,2121,2128,2142,2149,2156,2163,2177,2184,2191,2198,2212,2219,2226,2233,2247,2254,2261,2268,2282,2289,2296,2303,2317,2324,2331,2338,2352,2359,2366,2373,2387,2394,2401,2408,2422,2429,2436,2443,2457,2464,2471,2478,2492,2499,2506,2513,2527,2534,2541,2548,2562,2569,2576,2583,2597,2604,2611,2618,2632,2639,2646,2653,2667,2674,2681,2688,2702,2709,2716,2723,2737,2744,2751,2758,2772,2779,2786,2793,2807,2814,2821,2828,2842,2849,2856,2863,2877,2884,2891,2898,2912,2919,2926,2933,2947,2954,2961,2968,2982,2989,2996,3003,3017,3024,3031,3038,3052,3059,3066,3073,3087,3094,3101,3108,3122,3129,3136,3143,3157,3164,3171,3178,3192,3199\n"
          ]
        }
      ],
      "source": [
        "l=[]\n",
        "for i in range(2000, 3201):\n",
        "    if (i%7==0) and (i%5!=0):\n",
        "        l.append(str(i))\n",
        "\n",
        "print(','.join(l))"
      ]
    },
    {
      "cell_type": "code",
      "execution_count": null,
      "metadata": {
        "colab": {
          "base_uri": "https://localhost:8080/"
        },
        "id": "H8lyHHeXu1V3",
        "outputId": "6c534840-5c8a-4d88-d661-04187973bfff"
      },
      "outputs": [
        {
          "name": "stdout",
          "output_type": "stream",
          "text": [
            "Enter Number\n",
            "10\n",
            "3628800\n"
          ]
        }
      ],
      "source": [
        "def getfact(x):\n",
        "  if x==0:\n",
        "    return 1\n",
        "  return x*getfact(x-1)\n",
        "x=int(input(\"Enter Number\\n\"))\n",
        "print(getfact(x))"
      ]
    },
    {
      "cell_type": "code",
      "execution_count": null,
      "metadata": {
        "colab": {
          "base_uri": "https://localhost:8080/"
        },
        "id": "Z9_Uhxplzh7i",
        "outputId": "46971ae3-112d-4132-a072-2409cc437c00"
      },
      "outputs": [
        {
          "name": "stdout",
          "output_type": "stream",
          "text": [
            "4\n",
            "{1: 1, 2: 4, 3: 9, 4: 16}\n"
          ]
        }
      ],
      "source": [
        "n=int(input())\n",
        "d=dict()\n",
        "for i in range(1,n+1):\n",
        "  d[i]=i*i\n",
        "print(d)"
      ]
    },
    {
      "cell_type": "code",
      "execution_count": null,
      "metadata": {
        "colab": {
          "base_uri": "https://localhost:8080/"
        },
        "id": "YFSI-i5a03I8",
        "outputId": "3f4bf439-a68a-4269-d4b4-b33ddb1c9808"
      },
      "outputs": [
        {
          "name": "stdout",
          "output_type": "stream",
          "text": [
            "34,67,55,33,12,98\n",
            "['34', '67', '55', '33', '12', '98']\n",
            "('34', '67', '55', '33', '12', '98')\n"
          ]
        }
      ],
      "source": [
        "values=input()\n",
        "list=values.split(',')\n",
        "t=tuple(list)\n",
        "print(list)\n",
        "print(t)"
      ]
    },
    {
      "cell_type": "code",
      "execution_count": null,
      "metadata": {
        "colab": {
          "base_uri": "https://localhost:8080/"
        },
        "id": "5b3-upQz1p-b",
        "outputId": "67eb4236-95eb-44a0-f0bd-8af008d8c3cc"
      },
      "outputs": [
        {
          "name": "stdout",
          "output_type": "stream",
          "text": [
            "shahan\n",
            "SHAHAN\n"
          ]
        }
      ],
      "source": [
        "class InputOutString(object):\n",
        "  def __init__(self):\n",
        "    self.s=\"\"\n",
        "  def getString(self):\n",
        "    self.s=input()\n",
        "  def printString(self):\n",
        "    print(self.s.upper())\n",
        "strObj=InputOutString()\n",
        "strObj.getString()\n",
        "strObj.printString()"
      ]
    },
    {
      "cell_type": "code",
      "execution_count": null,
      "metadata": {
        "colab": {
          "base_uri": "https://localhost:8080/",
          "height": 797
        },
        "id": "9rsVagvZ8Bvj",
        "outputId": "c85ed37c-f268-4687-cbd4-2d2f677d8b2b"
      },
      "outputs": [
        {
          "name": "stdout",
          "output_type": "stream",
          "text": [
            "**************************************************\n",
            "Welcome to the Dice Game!\n",
            "A Game of Luck\n",
            "**************************************************\n",
            "Roll the die and if you roll a lucky six; You Win! :)\n",
            "Press 1 to role Die\n",
            "1\n",
            "\n",
            "Rolling the Die\n",
            "\n",
            "You got 5 \n",
            "Aww! You Lost!\n",
            "\n",
            "Press Y to Play again\n",
            "Press N to Exit Game\n",
            "y\n",
            "Press 1 to role Die\n",
            "1\n",
            "\n",
            "Rolling the Die\n",
            "\n",
            "You got 3 \n",
            "Aww! You Lost!\n",
            "\n"
          ]
        },
        {
          "ename": "KeyboardInterrupt",
          "evalue": "ignored",
          "output_type": "error",
          "traceback": [
            "\u001b[0;31m---------------------------------------------------------------------------\u001b[0m",
            "\u001b[0;31mKeyboardInterrupt\u001b[0m                         Traceback (most recent call last)",
            "\u001b[0;32m<ipython-input-14-46e35a964727>\u001b[0m in \u001b[0;36m<cell line: 13>\u001b[0;34m()\u001b[0m\n\u001b[1;32m     24\u001b[0m                         \u001b[0mprint\u001b[0m\u001b[0;34m(\u001b[0m\u001b[0;34m\"\\nYou got\"\u001b[0m\u001b[0;34m,\u001b[0m\u001b[0mnum\u001b[0m\u001b[0;34m,\u001b[0m\u001b[0;34m\"\\nAww! You Lost!\\n\"\u001b[0m\u001b[0;34m)\u001b[0m\u001b[0;34m\u001b[0m\u001b[0;34m\u001b[0m\u001b[0m\n\u001b[1;32m     25\u001b[0m \u001b[0;34m\u001b[0m\u001b[0m\n\u001b[0;32m---> 26\u001b[0;31m                 \u001b[0mchoice\u001b[0m \u001b[0;34m=\u001b[0m \u001b[0minput\u001b[0m\u001b[0;34m(\u001b[0m\u001b[0;34m\"Press Y to Play again\\nPress N to Exit Game\\n\"\u001b[0m\u001b[0;34m)\u001b[0m\u001b[0;34m\u001b[0m\u001b[0;34m\u001b[0m\u001b[0m\n\u001b[0m\u001b[1;32m     27\u001b[0m \u001b[0;34m\u001b[0m\u001b[0m\n\u001b[1;32m     28\u001b[0m                 \u001b[0;32mif\u001b[0m      \u001b[0;34m(\u001b[0m\u001b[0mchoice\u001b[0m \u001b[0;34m==\u001b[0m \u001b[0;34m'Y'\u001b[0m \u001b[0;32mor\u001b[0m \u001b[0mchoice\u001b[0m \u001b[0;34m==\u001b[0m \u001b[0;34m'y'\u001b[0m\u001b[0;34m)\u001b[0m\u001b[0;34m:\u001b[0m\u001b[0;34m\u001b[0m\u001b[0;34m\u001b[0m\u001b[0m\n",
            "\u001b[0;32m/usr/local/lib/python3.10/dist-packages/ipykernel/kernelbase.py\u001b[0m in \u001b[0;36mraw_input\u001b[0;34m(self, prompt)\u001b[0m\n\u001b[1;32m    849\u001b[0m                 \u001b[0;34m\"raw_input was called, but this frontend does not support input requests.\"\u001b[0m\u001b[0;34m\u001b[0m\u001b[0;34m\u001b[0m\u001b[0m\n\u001b[1;32m    850\u001b[0m             )\n\u001b[0;32m--> 851\u001b[0;31m         return self._input_request(str(prompt),\n\u001b[0m\u001b[1;32m    852\u001b[0m             \u001b[0mself\u001b[0m\u001b[0;34m.\u001b[0m\u001b[0m_parent_ident\u001b[0m\u001b[0;34m,\u001b[0m\u001b[0;34m\u001b[0m\u001b[0;34m\u001b[0m\u001b[0m\n\u001b[1;32m    853\u001b[0m             \u001b[0mself\u001b[0m\u001b[0;34m.\u001b[0m\u001b[0m_parent_header\u001b[0m\u001b[0;34m,\u001b[0m\u001b[0;34m\u001b[0m\u001b[0;34m\u001b[0m\u001b[0m\n",
            "\u001b[0;32m/usr/local/lib/python3.10/dist-packages/ipykernel/kernelbase.py\u001b[0m in \u001b[0;36m_input_request\u001b[0;34m(self, prompt, ident, parent, password)\u001b[0m\n\u001b[1;32m    893\u001b[0m             \u001b[0;32mexcept\u001b[0m \u001b[0mKeyboardInterrupt\u001b[0m\u001b[0;34m:\u001b[0m\u001b[0;34m\u001b[0m\u001b[0;34m\u001b[0m\u001b[0m\n\u001b[1;32m    894\u001b[0m                 \u001b[0;31m# re-raise KeyboardInterrupt, to truncate traceback\u001b[0m\u001b[0;34m\u001b[0m\u001b[0;34m\u001b[0m\u001b[0m\n\u001b[0;32m--> 895\u001b[0;31m                 \u001b[0;32mraise\u001b[0m \u001b[0mKeyboardInterrupt\u001b[0m\u001b[0;34m(\u001b[0m\u001b[0;34m\"Interrupted by user\"\u001b[0m\u001b[0;34m)\u001b[0m \u001b[0;32mfrom\u001b[0m \u001b[0;32mNone\u001b[0m\u001b[0;34m\u001b[0m\u001b[0;34m\u001b[0m\u001b[0m\n\u001b[0m\u001b[1;32m    896\u001b[0m             \u001b[0;32mexcept\u001b[0m \u001b[0mException\u001b[0m \u001b[0;32mas\u001b[0m \u001b[0me\u001b[0m\u001b[0;34m:\u001b[0m\u001b[0;34m\u001b[0m\u001b[0;34m\u001b[0m\u001b[0m\n\u001b[1;32m    897\u001b[0m                 \u001b[0mself\u001b[0m\u001b[0;34m.\u001b[0m\u001b[0mlog\u001b[0m\u001b[0;34m.\u001b[0m\u001b[0mwarning\u001b[0m\u001b[0;34m(\u001b[0m\u001b[0;34m\"Invalid Message:\"\u001b[0m\u001b[0;34m,\u001b[0m \u001b[0mexc_info\u001b[0m\u001b[0;34m=\u001b[0m\u001b[0;32mTrue\u001b[0m\u001b[0;34m)\u001b[0m\u001b[0;34m\u001b[0m\u001b[0;34m\u001b[0m\u001b[0m\n",
            "\u001b[0;31mKeyboardInterrupt\u001b[0m: Interrupted by user"
          ]
        }
      ],
      "source": [
        "import random\n",
        "import time\n",
        "\n",
        "def wait():\n",
        "\ttime.sleep(2.0)\n",
        "\n",
        "print(\"*\"*50)\n",
        "print(\"Welcome to the Dice Game!\")\n",
        "print(\"A Game of Luck\")\n",
        "print(\"*\"*50)\n",
        "print(\"Roll the die and if you roll a lucky six; You Win! :)\")\n",
        "\n",
        "while (True):\n",
        "\tuser_input = input(\"Press 1 to role Die\\n\")\n",
        "\n",
        "\tif(user_input == '1' or user_input == 1):\n",
        "\t\tnum = random.randint(1,6)\n",
        "\t\tprint(\"\\nRolling the Die\")\n",
        "\t\twait()\n",
        "\t\tif(num == 6):\n",
        "\t\t\tprint(\"You got\",num)\n",
        "\t\t\tprint(\"Yay! You won!\\n\")\n",
        "\t\telse:\n",
        "\t\t\tprint(\"\\nYou got\",num,\"\\nAww! You Lost!\\n\")\n",
        "\n",
        "\t\tchoice = input(\"Press Y to Play again\\nPress N to Exit Game\\n\")\n",
        "\n",
        "\t\tif\t(choice == 'Y' or choice == 'y'):\n",
        "\t\t\tcontinue\n",
        "\t\telif (choice == 'N' or choice == 'n'):\n",
        "\t\t\tbreak\n",
        "\t\telse:\n",
        "\t\t\tprint(\"\\nPlease Enter Y/N.\")\n",
        "\n",
        "\telse:\n",
        "\t\tprint(\"\\nNot a valid option\")"
      ]
    },
    {
      "cell_type": "code",
      "execution_count": null,
      "metadata": {
        "colab": {
          "base_uri": "https://localhost:8080/",
          "height": 380
        },
        "id": "sNskTMrT--bA",
        "outputId": "e4f2d1df-1880-4874-bda7-ff00cbdb82bf"
      },
      "outputs": [
        {
          "ename": "KeyboardInterrupt",
          "evalue": "ignored",
          "output_type": "error",
          "traceback": [
            "\u001b[0;31m---------------------------------------------------------------------------\u001b[0m",
            "\u001b[0;31mKeyboardInterrupt\u001b[0m                         Traceback (most recent call last)",
            "\u001b[0;32m<ipython-input-7-43d68de33259>\u001b[0m in \u001b[0;36m<cell line: 1>\u001b[0;34m()\u001b[0m\n\u001b[0;32m----> 1\u001b[0;31m \u001b[0mHeight\u001b[0m\u001b[0;34m=\u001b[0m\u001b[0mfloat\u001b[0m\u001b[0;34m(\u001b[0m\u001b[0minput\u001b[0m\u001b[0;34m(\u001b[0m\u001b[0;34m\"Enter your height in centimeters\\n\"\u001b[0m\u001b[0;34m)\u001b[0m\u001b[0;34m)\u001b[0m\u001b[0;34m\u001b[0m\u001b[0;34m\u001b[0m\u001b[0m\n\u001b[0m\u001b[1;32m      2\u001b[0m \u001b[0mWeight\u001b[0m\u001b[0;34m=\u001b[0m\u001b[0mfloat\u001b[0m\u001b[0;34m(\u001b[0m\u001b[0minput\u001b[0m\u001b[0;34m(\u001b[0m\u001b[0;34m\"Enter your weight in kg\\n\"\u001b[0m\u001b[0;34m)\u001b[0m\u001b[0;34m)\u001b[0m\u001b[0;34m\u001b[0m\u001b[0;34m\u001b[0m\u001b[0m\n\u001b[1;32m      3\u001b[0m \u001b[0mHeight\u001b[0m\u001b[0;34m=\u001b[0m\u001b[0mHeight\u001b[0m\u001b[0;34m/\u001b[0m\u001b[0;36m100\u001b[0m\u001b[0;34m\u001b[0m\u001b[0;34m\u001b[0m\u001b[0m\n\u001b[1;32m      4\u001b[0m \u001b[0mBMI\u001b[0m\u001b[0;34m=\u001b[0m\u001b[0mWeight\u001b[0m\u001b[0;34m/\u001b[0m\u001b[0;34m(\u001b[0m\u001b[0mHeight\u001b[0m\u001b[0;34m*\u001b[0m\u001b[0mHeight\u001b[0m\u001b[0;34m)\u001b[0m\u001b[0;34m\u001b[0m\u001b[0;34m\u001b[0m\u001b[0m\n\u001b[1;32m      5\u001b[0m \u001b[0mprint\u001b[0m\u001b[0;34m(\u001b[0m\u001b[0;34m\"Your BMI is\"\u001b[0m\u001b[0;34m,\u001b[0m\u001b[0mBMI\u001b[0m\u001b[0;34m)\u001b[0m\u001b[0;34m\u001b[0m\u001b[0;34m\u001b[0m\u001b[0m\n",
            "\u001b[0;32m/usr/local/lib/python3.10/dist-packages/ipykernel/kernelbase.py\u001b[0m in \u001b[0;36mraw_input\u001b[0;34m(self, prompt)\u001b[0m\n\u001b[1;32m    849\u001b[0m                 \u001b[0;34m\"raw_input was called, but this frontend does not support input requests.\"\u001b[0m\u001b[0;34m\u001b[0m\u001b[0;34m\u001b[0m\u001b[0m\n\u001b[1;32m    850\u001b[0m             )\n\u001b[0;32m--> 851\u001b[0;31m         return self._input_request(str(prompt),\n\u001b[0m\u001b[1;32m    852\u001b[0m             \u001b[0mself\u001b[0m\u001b[0;34m.\u001b[0m\u001b[0m_parent_ident\u001b[0m\u001b[0;34m,\u001b[0m\u001b[0;34m\u001b[0m\u001b[0;34m\u001b[0m\u001b[0m\n\u001b[1;32m    853\u001b[0m             \u001b[0mself\u001b[0m\u001b[0;34m.\u001b[0m\u001b[0m_parent_header\u001b[0m\u001b[0;34m,\u001b[0m\u001b[0;34m\u001b[0m\u001b[0;34m\u001b[0m\u001b[0m\n",
            "\u001b[0;32m/usr/local/lib/python3.10/dist-packages/ipykernel/kernelbase.py\u001b[0m in \u001b[0;36m_input_request\u001b[0;34m(self, prompt, ident, parent, password)\u001b[0m\n\u001b[1;32m    893\u001b[0m             \u001b[0;32mexcept\u001b[0m \u001b[0mKeyboardInterrupt\u001b[0m\u001b[0;34m:\u001b[0m\u001b[0;34m\u001b[0m\u001b[0;34m\u001b[0m\u001b[0m\n\u001b[1;32m    894\u001b[0m                 \u001b[0;31m# re-raise KeyboardInterrupt, to truncate traceback\u001b[0m\u001b[0;34m\u001b[0m\u001b[0;34m\u001b[0m\u001b[0m\n\u001b[0;32m--> 895\u001b[0;31m                 \u001b[0;32mraise\u001b[0m \u001b[0mKeyboardInterrupt\u001b[0m\u001b[0;34m(\u001b[0m\u001b[0;34m\"Interrupted by user\"\u001b[0m\u001b[0;34m)\u001b[0m \u001b[0;32mfrom\u001b[0m \u001b[0;32mNone\u001b[0m\u001b[0;34m\u001b[0m\u001b[0;34m\u001b[0m\u001b[0m\n\u001b[0m\u001b[1;32m    896\u001b[0m             \u001b[0;32mexcept\u001b[0m \u001b[0mException\u001b[0m \u001b[0;32mas\u001b[0m \u001b[0me\u001b[0m\u001b[0;34m:\u001b[0m\u001b[0;34m\u001b[0m\u001b[0;34m\u001b[0m\u001b[0m\n\u001b[1;32m    897\u001b[0m                 \u001b[0mself\u001b[0m\u001b[0;34m.\u001b[0m\u001b[0mlog\u001b[0m\u001b[0;34m.\u001b[0m\u001b[0mwarning\u001b[0m\u001b[0;34m(\u001b[0m\u001b[0;34m\"Invalid Message:\"\u001b[0m\u001b[0;34m,\u001b[0m \u001b[0mexc_info\u001b[0m\u001b[0;34m=\u001b[0m\u001b[0;32mTrue\u001b[0m\u001b[0;34m)\u001b[0m\u001b[0;34m\u001b[0m\u001b[0;34m\u001b[0m\u001b[0m\n",
            "\u001b[0;31mKeyboardInterrupt\u001b[0m: Interrupted by user"
          ]
        }
      ],
      "source": [
        "#BMI calculator\n",
        "Height=float(input(\"Enter your height in centimeters\\n\"))\n",
        "Weight=float(input(\"Enter your weight in kg\\n\"))\n",
        "Height=Height/100\n",
        "BMI=Weight/(Height*Height)\n",
        "print(\"Your BMI is\",BMI)\n",
        "if(BMI>0):\n",
        "  if(BMI<=16):\n",
        "    print(\"you are severely under Weight\")\n",
        "  elif(BMI<18.5 and BMI>16):\n",
        "    print(\"You are under Weight\")\n",
        "  elif(BMI>18.5 and BMI <=25):\n",
        "    print(\"You are healthy\")\n",
        "  elif(BMI>25 and BMI<=30):\n",
        "    print(\"You are over weight\")\n",
        "  else:\n",
        "    print(\"You are severely over wright\")\n",
        "else:(\"Enter valid details\")"
      ]
    },
    {
      "cell_type": "code",
      "execution_count": null,
      "metadata": {
        "colab": {
          "base_uri": "https://localhost:8080/"
        },
        "id": "v-b-vumvovA2",
        "outputId": "4364ca43-fc93-4594-a832-2fd0f55917df"
      },
      "outputs": [
        {
          "output_type": "stream",
          "name": "stdout",
          "text": [
            "What is the chemical symbol for nitrogen?\n",
            "1. N\n",
            "2. Ni\n",
            "3. Ne\n",
            "4. No\n",
            "Your ans(Enter in Number)1\n",
            "Correct\n",
            "What is the chemical symbol for carbon?\n",
            "1. C\n",
            "2. Co\n",
            "3. Ca\n",
            "4. Cr\n",
            "Your ans(Enter in Number)1\n",
            "Correct\n",
            "What is the largest river in the world?\n",
            "1. Amazon River\n",
            "2. Nile River\n",
            "3. Yangtze River\n",
            "4. Mississippi River\n",
            "Your ans(Enter in Number)1\n",
            "Correct\n",
            "Who painted the famous artwork 'The Starry Night'?\n",
            "1. Pablo Picasso\n",
            "2. Vincent van Gogh\n",
            "3. Salvador Dali\n",
            "4. Claude Monet\n",
            "Your ans(Enter in Number)3\n",
            "wrong\n",
            "Which country is known as the 'Land of the Midnight Sun'?\n",
            "1. Norway\n",
            "2. Finland\n",
            "3. Sweden\n",
            "4. Iceland\n",
            "Your ans(Enter in Number)1\n",
            "Correct\n",
            "What is the chemical symbol for gold?\n",
            "1. Go\n",
            "2. Au\n",
            "3. Ag\n",
            "4. Gd\n",
            "Your ans(Enter in Number)2\n",
            "Correct\n",
            "Enter your choice y/n. \n",
            "n\n",
            "Your score: 5/6\n"
          ]
        }
      ],
      "source": [
        "# Quiz Game\n",
        "\n",
        "questions={\n",
        "  \"quiz\": [\n",
        "    {\n",
        "      \"question\": \"What is the capital of France?\",\n",
        "      \"options\": [\"Paris\", \"London\", \"Berlin\", \"Madrid\"],\n",
        "      \"answer\": \"Paris\"\n",
        "    },\n",
        "    {\n",
        "      \"question\": \"Which planet is known as the Red Planet?\",\n",
        "      \"options\": [\"Mars\", \"Venus\", \"Jupiter\", \"Mercury\"],\n",
        "      \"answer\": \"Mars\"\n",
        "    },\n",
        "    {\n",
        "      \"question\": \"Who painted the Mona Lisa?\",\n",
        "      \"options\": [\"Vincent van Gogh\", \"Leonardo da Vinci\", \"Pablo Picasso\", \"Michelangelo\"],\n",
        "      \"answer\": \"Leonardo da Vinci\"\n",
        "    },\n",
        "    {\n",
        "      \"question\": \"What is the largest country in the world by land area?\",\n",
        "      \"options\": [\"Russia\", \"China\", \"Canada\", \"United States\"],\n",
        "      \"answer\": \"Russia\"\n",
        "    },\n",
        "    {\n",
        "      \"question\": \"What is the capital of Australia?\",\n",
        "      \"options\": [\"Sydney\", \"Melbourne\", \"Canberra\", \"Perth\"],\n",
        "      \"answer\": \"Canberra\"\n",
        "    },\n",
        "    {\n",
        "      \"question\": \"Who wrote the novel 'Pride and Prejudice'?\",\n",
        "      \"options\": [\"Jane Austen\", \"Charlotte Bronte\", \"Emily Dickinson\", \"Virginia Woolf\"],\n",
        "      \"answer\": \"Jane Austen\"\n",
        "    },\n",
        "    {\n",
        "      \"question\": \"What is the chemical symbol for gold?\",\n",
        "      \"options\": [\"Go\", \"Au\", \"Ag\", \"Gd\"],\n",
        "      \"answer\": \"Au\"\n",
        "    },\n",
        "    {\n",
        "      \"question\": \"Which animal is known as the 'King of the Jungle'?\",\n",
        "      \"options\": [\"Lion\", \"Tiger\", \"Elephant\", \"Giraffe\"],\n",
        "      \"answer\": \"Lion\"\n",
        "    },\n",
        "    {\n",
        "      \"question\": \"What is the largest ocean on Earth?\",\n",
        "      \"options\": [\"Pacific Ocean\", \"Atlantic Ocean\", \"Indian Ocean\", \"Arctic Ocean\"],\n",
        "      \"answer\": \"Pacific Ocean\"\n",
        "    },\n",
        "    {\n",
        "      \"question\": \"Who wrote the play 'Romeo and Juliet'?\",\n",
        "      \"options\": [\"William Shakespeare\", \"George Orwell\", \"Jane Austen\", \"Charles Dickens\"],\n",
        "      \"answer\": \"William Shakespeare\"\n",
        "    },\n",
        "    {\n",
        "      \"question\": \"What is the tallest mountain in the world?\",\n",
        "      \"options\": [\"Mount Everest\", \"K2\", \"Kangchenjunga\", \"Makalu\"],\n",
        "      \"answer\": \"Mount Everest\"\n",
        "    },\n",
        "    {\n",
        "      \"question\": \"What is the currency of Japan?\",\n",
        "      \"options\": [\"Yen\", \"Euro\", \"Dollar\", \"Pound\"],\n",
        "      \"answer\": \"Yen\"\n",
        "    },\n",
        "    {\n",
        "      \"question\": \"Who is the founder of Microsoft?\",\n",
        "      \"options\": [\"Bill Gates\", \"Steve Jobs\", \"Mark Zuckerberg\", \"Larry Page\"],\n",
        "      \"answer\": \"Bill Gates\"\n",
        "    },\n",
        "    {\n",
        "      \"question\": \"Which country is famous for the Taj Mahal?\",\n",
        "      \"options\": [\"India\", \"Egypt\", \"China\", \"Italy\"],\n",
        "      \"answer\": \"India\"\n",
        "    },\n",
        "    {\n",
        "      \"question\": \"What is the chemical symbol for iron?\",\n",
        "      \"options\": [\"Fe\", \"I\", \"In\", \"Ir\"],\n",
        "      \"answer\": \"Fe\"\n",
        "    },\n",
        "    {\n",
        "      \"question\": \"Which instrument is used to measure earthquakes?\",\n",
        "      \"options\": [\"Seismograph\", \"Thermometer\", \"Barometer\", \"Spectrometer\"],\n",
        "      \"answer\": \"Seismograph\"\n",
        "    },\n",
        "    {\n",
        "      \"question\": \"Who is the author of the Harry Potter book series?\",\n",
        "      \"options\": [\"J.K. Rowling\", \"Stephen King\", \"George R.R. Martin\", \"Dan Brown\"],\n",
        "      \"answer\": \"J.K. Rowling\"\n",
        "    },\n",
        "    {\n",
        "      \"question\": \"What is the largest organ in the human body?\",\n",
        "      \"options\": [\"Skin\", \"Heart\", \"Brain\", \"Liver\"],\n",
        "      \"answer\": \"Skin\"\n",
        "    },\n",
        "    {\n",
        "      \"question\": \"Which country is known as the 'Land of the Rising Sun'?\",\n",
        "      \"options\": [\"Japan\", \"China\", \"South Korea\", \"Vietnam\"],\n",
        "      \"answer\": \"Japan\"\n",
        "    },\n",
        "    {\n",
        "      \"question\": \"Who invented the telephone?\",\n",
        "      \"options\": [\"Alexander Graham Bell\", \"Thomas Edison\", \"Nikola Tesla\", \"Albert Einstein\"],\n",
        "      \"answer\": \"Alexander Graham Bell\"\n",
        "    },\n",
        "    {\n",
        "      \"question\": \"What is the chemical symbol for oxygen?\",\n",
        "      \"options\": [\"O\", \"Oh\", \"On\", \"Og\"],\n",
        "      \"answer\": \"O\"\n",
        "    },\n",
        "    {\n",
        "      \"question\": \"Which animal is known for its long neck?\",\n",
        "      \"options\": [\"Giraffe\", \"Elephant\", \"Kangaroo\", \"Zebra\"],\n",
        "      \"answer\": \"Giraffe\"\n",
        "    },\n",
        "    {\n",
        "      \"question\": \"What is the capital of Brazil?\",\n",
        "      \"options\": [\"Sao Paulo\", \"Rio de Janeiro\", \"Brasilia\", \"Salvador\"],\n",
        "      \"answer\": \"Brasilia\"\n",
        "    },\n",
        "    {\n",
        "      \"question\": \"Who painted the famous artwork 'The Starry Night'?\",\n",
        "      \"options\": [\"Pablo Picasso\", \"Vincent van Gogh\", \"Salvador Dali\", \"Claude Monet\"],\n",
        "      \"answer\": \"Vincent van Gogh\"\n",
        "    },\n",
        "    {\n",
        "      \"question\": \"Which country is home to the Great Barrier Reef?\",\n",
        "      \"options\": [\"Australia\", \"Brazil\", \"Canada\", \"Mexico\"],\n",
        "      \"answer\": \"Australia\"\n",
        "    },\n",
        "    {\n",
        "      \"question\": \"What is the chemical symbol for silver?\",\n",
        "      \"options\": [\"Si\", \"Ag\", \"Sv\", \"Sv\"],\n",
        "      \"answer\": \"Ag\"\n",
        "    },\n",
        "    {\n",
        "      \"question\": \"Which country is known as the 'Land of the Midnight Sun'?\",\n",
        "      \"options\": [\"Norway\", \"Finland\", \"Sweden\", \"Iceland\"],\n",
        "      \"answer\": \"Norway\"\n",
        "    },\n",
        "    {\n",
        "      \"question\": \"Who is the author of the novel 'To Kill a Mockingbird'?\",\n",
        "      \"options\": [\"Harper Lee\", \"Ernest Hemingway\", \"F. Scott Fitzgerald\", \"John Steinbeck\"],\n",
        "      \"answer\": \"Harper Lee\"\n",
        "    },\n",
        "    {\n",
        "      \"question\": \"What is the capital of India?\",\n",
        "      \"options\": [\"New Delhi\", \"Mumbai\", \"Kolkata\", \"Chennai\"],\n",
        "      \"answer\": \"New Delhi\"\n",
        "    },\n",
        "    {\n",
        "      \"question\": \"Who wrote the famous play 'Hamlet'?\",\n",
        "      \"options\": [\"William Shakespeare\", \"Oscar Wilde\", \"George Bernard Shaw\", \"Tennessee Williams\"],\n",
        "      \"answer\": \"William Shakespeare\"\n",
        "    },\n",
        "    {\n",
        "      \"question\": \"What is the largest desert in the world?\",\n",
        "      \"options\": [\"Sahara Desert\", \"Gobi Desert\", \"Arabian Desert\", \"Kalahari Desert\"],\n",
        "      \"answer\": \"Sahara Desert\"\n",
        "    },\n",
        "    {\n",
        "      \"question\": \"What is the currency of the United States?\",\n",
        "      \"options\": [\"Dollar\", \"Euro\", \"Yen\", \"Pound\"],\n",
        "      \"answer\": \"Dollar\"\n",
        "    },\n",
        "    {\n",
        "      \"question\": \"Which scientist developed the theory of relativity?\",\n",
        "      \"options\": [\"Albert Einstein\", \"Isaac Newton\", \"Galileo Galilei\", \"Nikola Tesla\"],\n",
        "      \"answer\": \"Albert Einstein\"\n",
        "    },\n",
        "    {\n",
        "      \"question\": \"What is the largest river in the world?\",\n",
        "      \"options\": [\"Amazon River\", \"Nile River\", \"Yangtze River\", \"Mississippi River\"],\n",
        "      \"answer\": \"Amazon River\"\n",
        "    },\n",
        "    {\n",
        "      \"question\": \"Who is the author of the novel '1984'?\",\n",
        "      \"options\": [\"George Orwell\", \"Aldous Huxley\", \"Ray Bradbury\", \"F. Scott Fitzgerald\"],\n",
        "      \"answer\": \"George Orwell\"\n",
        "    },\n",
        "    {\n",
        "      \"question\": \"What is the chemical symbol for carbon?\",\n",
        "      \"options\": [\"C\", \"Co\", \"Ca\", \"Cr\"],\n",
        "      \"answer\": \"C\"\n",
        "    },\n",
        "    {\n",
        "      \"question\": \"Which instrument is used to measure atmospheric pressure?\",\n",
        "      \"options\": [\"Barometer\", \"Thermometer\", \"Hydrometer\", \"Anemometer\"],\n",
        "      \"answer\": \"Barometer\"\n",
        "    },\n",
        "    {\n",
        "      \"question\": \"Who is the protagonist in the 'Harry Potter' book series?\",\n",
        "      \"options\": [\"Harry Potter\", \"Ron Weasley\", \"Hermione Granger\", \"Draco Malfoy\"],\n",
        "      \"answer\": \"Harry Potter\"\n",
        "    },\n",
        "    {\n",
        "      \"question\": \"What is the smallest country in the world?\",\n",
        "      \"options\": [\"Vatican City\", \"Monaco\", \"Nauru\", \"San Marino\"],\n",
        "      \"answer\": \"Vatican City\"\n",
        "    },\n",
        "    {\n",
        "      \"question\": \"Which country is known as the 'Land of the Long White Cloud'?\",\n",
        "      \"options\": [\"New Zealand\", \"Canada\", \"United Kingdom\", \"Denmark\"],\n",
        "      \"answer\": \"New Zealand\"\n",
        "    },\n",
        "    {\n",
        "      \"question\": \"Who invented the light bulb?\",\n",
        "      \"options\": [\"Thomas Edison\", \"Benjamin Franklin\", \"Nikola Tesla\", \"Alexander Graham Bell\"],\n",
        "      \"answer\": \"Thomas Edison\"\n",
        "    },\n",
        "    {\n",
        "      \"question\": \"What is the chemical symbol for nitrogen?\",\n",
        "      \"options\": [\"N\", \"Ni\", \"Ne\", \"No\"],\n",
        "      \"answer\": \"N\"\n",
        "    },\n",
        "    {\n",
        "      \"question\": \"Which animal is known for its black and white stripes?\",\n",
        "      \"options\": [\"Zebra\", \"Tiger\", \"Panda\", \"Cow\"],\n",
        "      \"answer\": \"Zebra\"\n",
        "    },\n",
        "    {\n",
        "      \"question\": \"What is the capital of Canada?\",\n",
        "      \"options\": [\"Toronto\", \"Vancouver\", \"Ottawa\", \"Montreal\"],\n",
        "      \"answer\": \"Ottawa\"\n",
        "    },\n",
        "    {\n",
        "      \"question\": \"Who painted the famous artwork 'The Last Supper'?\",\n",
        "      \"options\": [\"Michelangelo\", \"Leonardo da Vinci\", \"Pablo Picasso\", \"Vincent van Gogh\"],\n",
        "      \"answer\": \"Leonardo da Vinci\"\n",
        "    },\n",
        "    {\n",
        "      \"question\": \"Which country is known as the 'Land of Fire and Ice'?\",\n",
        "      \"options\": [\"Iceland\", \"Greenland\", \"Sweden\", \"Finland\"],\n",
        "      \"answer\": \"Iceland\"\n",
        "    },\n",
        "    {\n",
        "      \"question\": \"Who is the author of the novel 'The Great Gatsby'?\",\n",
        "      \"options\": [\"F. Scott Fitzgerald\", \"Mark Twain\", \"John Steinbeck\", \"Ernest Hemingway\"],\n",
        "      \"answer\": \"F. Scott Fitzgerald\"\n",
        "    },\n",
        "    {\n",
        "      \"question\": \"What is the capital of Germany?\",\n",
        "      \"options\": [\"Berlin\", \"Munich\", \"Hamburg\", \"Frankfurt\"],\n",
        "      \"answer\": \"Berlin\"\n",
        "    },\n",
        "    {\n",
        "      \"question\": \"Who wrote the play 'Macbeth'?\",\n",
        "      \"options\": [\"William Shakespeare\", \"Arthur Miller\", \"Tennessee Williams\", \"Oscar Wilde\"],\n",
        "      \"answer\": \"William Shakespeare\"\n",
        "    },\n",
        "    {\n",
        "      \"question\": \"What is the largest waterfall in the world?\",\n",
        "      \"options\": [\"Angel Falls\", \"Niagara Falls\", \"Victoria Falls\", \"Iguazu Falls\"],\n",
        "      \"answer\": \"Angel Falls\"\n",
        "    },\n",
        "    {\n",
        "      \"question\": \"What is the currency of France?\",\n",
        "      \"options\": [\"Euro\", \"Dollar\", \"Yen\", \"Pound\"],\n",
        "      \"answer\": \"Euro\"\n",
        "    },\n",
        "    {\n",
        "      \"question\": \"Which scientist discovered the law of gravity?\",\n",
        "      \"options\": [\"Isaac Newton\", \"Galileo Galilei\", \"Albert Einstein\", \"Nikola Tesla\"],\n",
        "      \"answer\": \"Isaac Newton\"\n",
        "    },\n",
        "    {\n",
        "      \"question\": \"What is the longest river in Europe?\",\n",
        "      \"options\": [\"Volga River\", \"Danube River\", \"Rhine River\", \"Thames River\"],\n",
        "      \"answer\": \"Volga River\"\n",
        "    },\n",
        "    {\n",
        "      \"question\": \"Who is the author of the novel 'The Catcher in the Rye'?\",\n",
        "      \"options\": [\"J.D. Salinger\", \"Harper Lee\", \"George Orwell\", \"F. Scott Fitzgerald\"],\n",
        "      \"answer\": \"J.D. Salinger\"\n",
        "    },\n",
        "    {\n",
        "      \"question\": \"What is the chemical symbol for hydrogen?\",\n",
        "      \"options\": [\"H\", \"Hy\", \"He\", \"Ho\"],\n",
        "      \"answer\": \"H\"\n",
        "    },\n",
        "    {\n",
        "      \"question\": \"Which animal is known for its ability to fly?\",\n",
        "      \"options\": [\"Bird\", \"Fish\", \"Lion\", \"Elephant\"],\n",
        "      \"answer\": \"Bird\"\n",
        "    },\n",
        "    {\n",
        "      \"question\": \"What is the capital of Spain?\",\n",
        "      \"options\": [\"Madrid\", \"Barcelona\", \"Valencia\", \"Seville\"],\n",
        "      \"answer\": \"Madrid\"\n",
        "    },\n",
        "    {\n",
        "      \"question\": \"Who painted the famous artwork 'The Scream'?\",\n",
        "      \"options\": [\"Edvard Munch\", \"Salvador Dali\", \"Pablo Picasso\", \"Vincent van Gogh\"],\n",
        "      \"answer\": \"Edvard Munch\"\n",
        "    },\n",
        "    {\n",
        "      \"question\": \"Which country is known as the 'Land of the Rising Sun'?\",\n",
        "      \"options\": [\"Japan\", \"China\", \"South Korea\", \"Vietnam\"],\n",
        "      \"answer\": \"Japan\"\n",
        "    },\n",
        "    {\n",
        "      \"question\": \"Who invented the telephone?\",\n",
        "      \"options\": [\"Alexander Graham Bell\", \"Thomas Edison\", \"Nikola Tesla\", \"Albert Einstein\"],\n",
        "      \"answer\": \"Alexander Graham Bell\"\n",
        "    },\n",
        "    {\n",
        "      \"question\": \"What is the chemical symbol for oxygen?\",\n",
        "      \"options\": [\"O\", \"Oh\", \"On\", \"Og\"],\n",
        "      \"answer\": \"O\"\n",
        "    },\n",
        "    {\n",
        "      \"question\": \"Which animal is known for its long neck?\",\n",
        "      \"options\": [\"Giraffe\", \"Elephant\", \"Kangaroo\", \"Zebra\"],\n",
        "      \"answer\": \"Giraffe\"\n",
        "    },\n",
        "    {\n",
        "      \"question\": \"What is the capital of Brazil?\",\n",
        "      \"options\": [\"Sao Paulo\", \"Rio de Janeiro\", \"Brasilia\", \"Salvador\"],\n",
        "      \"answer\": \"Brasilia\"\n",
        "    },\n",
        "    {\n",
        "      \"question\": \"Who painted the famous artwork 'The Starry Night'?\",\n",
        "      \"options\": [\"Pablo Picasso\", \"Vincent van Gogh\", \"Salvador Dali\", \"Claude Monet\"],\n",
        "      \"answer\": \"Vincent van Gogh\"\n",
        "    },\n",
        "    {\n",
        "      \"question\": \"Which country is home to the Great Barrier Reef?\",\n",
        "      \"options\": [\"Australia\", \"Brazil\", \"Canada\", \"Mexico\"],\n",
        "      \"answer\": \"Australia\"\n",
        "    },\n",
        "    {\n",
        "      \"question\": \"What is the chemical symbol for silver?\",\n",
        "      \"options\": [\"Si\", \"Ag\", \"Sv\", \"Sv\"],\n",
        "      \"answer\": \"Ag\"\n",
        "    },\n",
        "    {\n",
        "      \"question\": \"Which country is known as the 'Land of the Midnight Sun'?\",\n",
        "      \"options\": [\"Norway\", \"Finland\", \"Sweden\", \"Iceland\"],\n",
        "      \"answer\": \"Norway\"\n",
        "    },\n",
        "    {\n",
        "      \"question\": \"Who is the author of the novel 'To Kill a Mockingbird'?\",\n",
        "      \"options\": [\"Harper Lee\", \"Ernest Hemingway\", \"F. Scott Fitzgerald\", \"John Steinbeck\"],\n",
        "      \"answer\": \"Harper Lee\"\n",
        "    },\n",
        "    {\n",
        "      \"question\": \"What is the capital of India?\",\n",
        "      \"options\": [\"New Delhi\", \"Mumbai\", \"Kolkata\", \"Chennai\"],\n",
        "      \"answer\": \"New Delhi\"\n",
        "    },\n",
        "    {\n",
        "      \"question\": \"Who wrote the famous play 'Hamlet'?\",\n",
        "      \"options\": [\"William Shakespeare\", \"Oscar Wilde\", \"George Bernard Shaw\", \"Tennessee Williams\"],\n",
        "      \"answer\": \"William Shakespeare\"\n",
        "    },\n",
        "    {\n",
        "      \"question\": \"What is the largest desert in the world?\",\n",
        "      \"options\": [\"Sahara Desert\", \"Gobi Desert\", \"Arabian Desert\", \"Kalahari Desert\"],\n",
        "      \"answer\": \"Sahara Desert\"\n",
        "    },\n",
        "    {\n",
        "      \"question\": \"What is the currency of the United States?\",\n",
        "      \"options\": [\"Dollar\", \"Euro\", \"Yen\", \"Pound\"],\n",
        "      \"answer\": \"Dollar\"\n",
        "    },\n",
        "    {\n",
        "      \"question\": \"Which scientist developed the theory of relativity?\",\n",
        "      \"options\": [\"Albert Einstein\", \"Isaac Newton\", \"Galileo Galilei\", \"Nikola Tesla\"],\n",
        "      \"answer\": \"Albert Einstein\"\n",
        "    },\n",
        "    {\n",
        "      \"question\": \"What is the largest river in the world?\",\n",
        "      \"options\": [\"Amazon River\", \"Nile River\", \"Yangtze River\", \"Mississippi River\"],\n",
        "      \"answer\": \"Amazon River\"\n",
        "    },\n",
        "    {\n",
        "      \"question\": \"Who is the author of the novel '1984'?\",\n",
        "      \"options\": [\"George Orwell\", \"Aldous Huxley\", \"Ray Bradbury\", \"F. Scott Fitzgerald\"],\n",
        "      \"answer\": \"George Orwell\"\n",
        "    },\n",
        "    {\n",
        "      \"question\": \"What is the chemical symbol for carbon?\",\n",
        "      \"options\": [\"C\", \"Co\", \"Ca\", \"Cr\"],\n",
        "      \"answer\": \"C\"\n",
        "    },\n",
        "    {\n",
        "      \"question\": \"Which instrument is used to measure atmospheric pressure?\",\n",
        "      \"options\": [\"Barometer\", \"Thermometer\", \"Hydrometer\", \"Anemometer\"],\n",
        "      \"answer\": \"Barometer\"\n",
        "    },\n",
        "    {\n",
        "      \"question\": \"Who is the protagonist in the 'Harry Potter' book series?\",\n",
        "      \"options\": [\"Harry Potter\", \"Ron Weasley\", \"Hermione Granger\", \"Draco Malfoy\"],\n",
        "      \"answer\": \"Harry Potter\"\n",
        "    }\n",
        "  ]\n",
        "  }\n",
        "import json\n",
        "import random\n",
        "def run_quiz():\n",
        "  score=0\n",
        "  consecutive_correct=0\n",
        "  ask_ques=0\n",
        "  data=questions['quiz']\n",
        "  random.shuffle(data)\n",
        "  for ques in data:\n",
        "    print(ques['question'])\n",
        "\n",
        "    for i,option in enumerate(ques['options']):\n",
        "      print(f\"{i+1}. {option}\")\n",
        "    user_ans=input(\"Your ans(Enter in Number)\")\n",
        "    ask_ques+=1\n",
        "    if ques[\"options\"][int(user_ans)-1]==ques['answer']:\n",
        "      print(\"Correct\")\n",
        "      score+=1\n",
        "      consecutive_correct+=1\n",
        "    else:\n",
        "      print(\"wrong\")\n",
        "      consecutive_correct+=0\n",
        "    if consecutive_correct ==5:\n",
        "      play_again=input(\"Enter your choice y/n. \\n\")\n",
        "      if play_again =='y':\n",
        "        consecutive_correct=0\n",
        "        continue\n",
        "      else:\n",
        "        break\n",
        "\n",
        "  print(f\"Your score: {score}/{ask_ques}\")\n",
        "run_quiz()\n"
      ]
    },
    {
      "cell_type": "code",
      "source": [
        "x=range(3,5,1)\n",
        "for n in x:\n",
        "  print(n)"
      ],
      "metadata": {
        "id": "ZGutSzJ_YbuE",
        "colab": {
          "base_uri": "https://localhost:8080/"
        },
        "outputId": "dea93eaa-b724-4b96-d503-03f94420cffd"
      },
      "execution_count": null,
      "outputs": [
        {
          "output_type": "stream",
          "name": "stdout",
          "text": [
            "3\n",
            "4\n"
          ]
        }
      ]
    },
    {
      "cell_type": "code",
      "source": [
        "2 in [1,3,1,2,1,4]\n",
        "'a' in 'cat'\n",
        "10 in range(12)\n",
        "10 not in (2,4)\n",
        "list(range(10))\n",
        "list(\"Shahan Mirza\")\n",
        "squares=[i*i for i in range(10) if i%2==0]\n",
        "squares\n",
        "output=\"tin tin\"\n",
        "output.ljust(10)\n",
        "output.rjust(20,\"`\")\n",
        "map = {'key-1': 'value-1', 'key-2': 'value-2'}\n",
        "map['key-3']='value-3'\n",
        "if 'key-4' in map:\n",
        "  print(\"Key-3 matched\")\n",
        "else:\n",
        "  print(\"Key-4 not found\")\n",
        "letters=\"abcdefghijklmnopqrstuvwxyz\"\n",
        "cap_map={x:x.upper() for x in letters}\n",
        "cap_map['m']\n",
        "\n",
        "x=lambda a,b: a*b\n",
        "print(x(3,4))"
      ],
      "metadata": {
        "colab": {
          "base_uri": "https://localhost:8080/"
        },
        "id": "Ld0FYZ-uFaEw",
        "outputId": "6ad27721-f88f-4d4f-a8f6-f22759c18674"
      },
      "execution_count": null,
      "outputs": [
        {
          "output_type": "stream",
          "name": "stdout",
          "text": [
            "Key-4 not found\n",
            "12\n"
          ]
        }
      ]
    },
    {
      "cell_type": "code",
      "source": [
        "def myfunc(n):\n",
        "  return lambda a:a*n\n",
        "mydoubler=myfunc(2)\n",
        "print(mydoubler(11))"
      ],
      "metadata": {
        "id": "OM0Hhx8FFjhB",
        "colab": {
          "base_uri": "https://localhost:8080/"
        },
        "outputId": "0ed380c9-65bc-403d-90eb-e553a2e217a0"
      },
      "execution_count": null,
      "outputs": [
        {
          "output_type": "stream",
          "name": "stdout",
          "text": [
            "22\n"
          ]
        }
      ]
    },
    {
      "cell_type": "code",
      "source": [
        "import re\n",
        "txt=\"this rain in lahore\"\n",
        "x=re.findall('[a-m]',txt)\n",
        "print(x)"
      ],
      "metadata": {
        "colab": {
          "base_uri": "https://localhost:8080/"
        },
        "id": "Qg2dJEkWkUW6",
        "outputId": "e7ff51c6-c4e8-42d0-ee1d-3683d376e869"
      },
      "execution_count": null,
      "outputs": [
        {
          "output_type": "stream",
          "name": "stdout",
          "text": [
            "['h', 'i', 'a', 'i', 'i', 'l', 'a', 'h', 'e']\n"
          ]
        }
      ]
    },
    {
      "cell_type": "code",
      "source": [
        "import re\n",
        "cc_list = '''Ezra Koenig <ekoenig@vpwk.com>,\n",
        " ...: Rostam Batmanglij <rostam@vpwk.com>,\n",
        " ...: Chris Tomson <ctomson@vpwk.com,\n",
        " ...: Bobbi Baio <bbaio@vpwk.com'''\n",
        "if re.search(r\"Rostam\",cc_list):\n",
        "  print(r\"Rostam Name found in cc list\")"
      ],
      "metadata": {
        "id": "BzhtAucHkf-R",
        "colab": {
          "base_uri": "https://localhost:8080/"
        },
        "outputId": "4518bb64-466c-4fa1-f41a-4e18eaa7448d"
      },
      "execution_count": 4,
      "outputs": [
        {
          "output_type": "stream",
          "name": "stdout",
          "text": [
            "Rostam Name found in cc list\n"
          ]
        }
      ]
    },
    {
      "cell_type": "code",
      "source": [],
      "metadata": {
        "id": "TfgA-1y1SDha"
      },
      "execution_count": null,
      "outputs": []
    }
  ],
  "metadata": {
    "colab": {
      "provenance": [],
      "toc_visible": true,
      "authorship_tag": "ABX9TyNKFYw/bR3Is2VyyWyA6H26",
      "include_colab_link": true
    },
    "kernelspec": {
      "display_name": "Python 3",
      "name": "python3"
    },
    "language_info": {
      "name": "python"
    }
  },
  "nbformat": 4,
  "nbformat_minor": 0
}